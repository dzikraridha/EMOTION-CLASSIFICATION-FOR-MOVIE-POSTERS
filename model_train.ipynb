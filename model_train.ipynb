{
  "cells": [
    {
      "cell_type": "markdown",
      "metadata": {
        "id": "view-in-github",
        "colab_type": "text"
      },
      "source": [
        "<a href=\"https://colab.research.google.com/github/dzikraridha/movie-poster-emotion/blob/main/model_train.ipynb\" target=\"_parent\"><img src=\"https://colab.research.google.com/assets/colab-badge.svg\" alt=\"Open In Colab\"/></a>"
      ]
    },
    {
      "cell_type": "code",
      "execution_count": null,
      "metadata": {
        "colab": {
          "base_uri": "https://localhost:8080/"
        },
        "id": "LMxBiaorOhNk",
        "outputId": "f0fcecbb-fc8a-406d-b6c3-10b08ddefec1"
      },
      "outputs": [
        {
          "output_type": "stream",
          "name": "stdout",
          "text": [
            "Mounted at /content/drive\n"
          ]
        }
      ],
      "source": [
        "from google.colab import drive\n",
        "drive.mount('/content/drive', timeout_ms=300000) # Increased timeout to 5 minutes"
      ]
    },
    {
      "cell_type": "code",
      "execution_count": null,
      "metadata": {
        "id": "RXnddUzs6P2j"
      },
      "outputs": [],
      "source": [
        "import pandas as pd\n",
        "import numpy as np\n",
        "import matplotlib.pyplot as plt\n",
        "import os\n",
        "import tensorflow as tf\n",
        "from tensorflow.keras.applications.vgg16 import VGG16, preprocess_input\n",
        "from tensorflow.keras.preprocessing.image import ImageDataGenerator, load_img, img_to_array\n",
        "from tensorflow.keras.layers import Input, Dense, Flatten, Dropout\n",
        "from tensorflow.keras.models import Model\n",
        "from tensorflow.keras.optimizers import Adam\n",
        "from tensorflow.keras.utils import Sequence\n",
        "from sklearn.model_selection import train_test_split\n",
        "from sklearn.utils import class_weight\n",
        "from sklearn.metrics import f1_score, precision_score, recall_score, roc_auc_score\n",
        "from tensorflow.keras.callbacks import EarlyStopping, ReduceLROnPlateau, ModelCheckpoint, Callback"
      ]
    },
    {
      "cell_type": "code",
      "execution_count": null,
      "metadata": {
        "colab": {
          "base_uri": "https://localhost:8080/",
          "height": 206
        },
        "id": "p8Nth82h5xMs",
        "outputId": "2aa34263-90ed-4c08-814d-d2f39291ffa2"
      },
      "outputs": [
        {
          "output_type": "execute_result",
          "data": {
            "text/plain": [
              "   imdbId                       Genre                               Title  \\\n",
              "0  114709  Animation|Adventure|Comedy                    Toy Story (1995)   \n",
              "1  113497     Action|Adventure|Family                      Jumanji (1995)   \n",
              "2  114885        Comedy|Drama|Romance            Waiting to Exhale (1995)   \n",
              "3  113041       Comedy|Family|Romance  Father of the Bride Part II (1995)   \n",
              "4  113277          Action|Crime|Drama                         Heat (1995)   \n",
              "\n",
              "                                 Image_Paths  \\\n",
              "0  /content/drive/MyDrive/Posters/114709.jpg   \n",
              "1  /content/drive/MyDrive/Posters/113497.jpg   \n",
              "2  /content/drive/MyDrive/Posters/114885.jpg   \n",
              "3  /content/drive/MyDrive/Posters/113041.jpg   \n",
              "4  /content/drive/MyDrive/Posters/113277.jpg   \n",
              "\n",
              "                                             emotion  \n",
              "0                      ['Happy', 'Surprised', 'Sad']  \n",
              "1  ['Fear', 'Sad', 'Angry', 'Neutral', 'Happy', '...  \n",
              "2             ['Happy', 'Angry', 'Surprised', 'Sad']  \n",
              "3           ['Happy', 'Neutral', 'Surprised', 'Sad']  \n",
              "4   ['Fear', 'Sad', 'Disgust', 'Angry', 'Surprised']  "
            ],
            "text/html": [
              "\n",
              "  <div id=\"df-5ca27123-94c8-40d1-8e8f-34dbb7091b0c\" class=\"colab-df-container\">\n",
              "    <div>\n",
              "<style scoped>\n",
              "    .dataframe tbody tr th:only-of-type {\n",
              "        vertical-align: middle;\n",
              "    }\n",
              "\n",
              "    .dataframe tbody tr th {\n",
              "        vertical-align: top;\n",
              "    }\n",
              "\n",
              "    .dataframe thead th {\n",
              "        text-align: right;\n",
              "    }\n",
              "</style>\n",
              "<table border=\"1\" class=\"dataframe\">\n",
              "  <thead>\n",
              "    <tr style=\"text-align: right;\">\n",
              "      <th></th>\n",
              "      <th>imdbId</th>\n",
              "      <th>Genre</th>\n",
              "      <th>Title</th>\n",
              "      <th>Image_Paths</th>\n",
              "      <th>emotion</th>\n",
              "    </tr>\n",
              "  </thead>\n",
              "  <tbody>\n",
              "    <tr>\n",
              "      <th>0</th>\n",
              "      <td>114709</td>\n",
              "      <td>Animation|Adventure|Comedy</td>\n",
              "      <td>Toy Story (1995)</td>\n",
              "      <td>/content/drive/MyDrive/Posters/114709.jpg</td>\n",
              "      <td>['Happy', 'Surprised', 'Sad']</td>\n",
              "    </tr>\n",
              "    <tr>\n",
              "      <th>1</th>\n",
              "      <td>113497</td>\n",
              "      <td>Action|Adventure|Family</td>\n",
              "      <td>Jumanji (1995)</td>\n",
              "      <td>/content/drive/MyDrive/Posters/113497.jpg</td>\n",
              "      <td>['Fear', 'Sad', 'Angry', 'Neutral', 'Happy', '...</td>\n",
              "    </tr>\n",
              "    <tr>\n",
              "      <th>2</th>\n",
              "      <td>114885</td>\n",
              "      <td>Comedy|Drama|Romance</td>\n",
              "      <td>Waiting to Exhale (1995)</td>\n",
              "      <td>/content/drive/MyDrive/Posters/114885.jpg</td>\n",
              "      <td>['Happy', 'Angry', 'Surprised', 'Sad']</td>\n",
              "    </tr>\n",
              "    <tr>\n",
              "      <th>3</th>\n",
              "      <td>113041</td>\n",
              "      <td>Comedy|Family|Romance</td>\n",
              "      <td>Father of the Bride Part II (1995)</td>\n",
              "      <td>/content/drive/MyDrive/Posters/113041.jpg</td>\n",
              "      <td>['Happy', 'Neutral', 'Surprised', 'Sad']</td>\n",
              "    </tr>\n",
              "    <tr>\n",
              "      <th>4</th>\n",
              "      <td>113277</td>\n",
              "      <td>Action|Crime|Drama</td>\n",
              "      <td>Heat (1995)</td>\n",
              "      <td>/content/drive/MyDrive/Posters/113277.jpg</td>\n",
              "      <td>['Fear', 'Sad', 'Disgust', 'Angry', 'Surprised']</td>\n",
              "    </tr>\n",
              "  </tbody>\n",
              "</table>\n",
              "</div>\n",
              "    <div class=\"colab-df-buttons\">\n",
              "\n",
              "  <div class=\"colab-df-container\">\n",
              "    <button class=\"colab-df-convert\" onclick=\"convertToInteractive('df-5ca27123-94c8-40d1-8e8f-34dbb7091b0c')\"\n",
              "            title=\"Convert this dataframe to an interactive table.\"\n",
              "            style=\"display:none;\">\n",
              "\n",
              "  <svg xmlns=\"http://www.w3.org/2000/svg\" height=\"24px\" viewBox=\"0 -960 960 960\">\n",
              "    <path d=\"M120-120v-720h720v720H120Zm60-500h600v-160H180v160Zm220 220h160v-160H400v160Zm0 220h160v-160H400v160ZM180-400h160v-160H180v160Zm440 0h160v-160H620v160ZM180-180h160v-160H180v160Zm440 0h160v-160H620v160Z\"/>\n",
              "  </svg>\n",
              "    </button>\n",
              "\n",
              "  <style>\n",
              "    .colab-df-container {\n",
              "      display:flex;\n",
              "      gap: 12px;\n",
              "    }\n",
              "\n",
              "    .colab-df-convert {\n",
              "      background-color: #E8F0FE;\n",
              "      border: none;\n",
              "      border-radius: 50%;\n",
              "      cursor: pointer;\n",
              "      display: none;\n",
              "      fill: #1967D2;\n",
              "      height: 32px;\n",
              "      padding: 0 0 0 0;\n",
              "      width: 32px;\n",
              "    }\n",
              "\n",
              "    .colab-df-convert:hover {\n",
              "      background-color: #E2EBFA;\n",
              "      box-shadow: 0px 1px 2px rgba(60, 64, 67, 0.3), 0px 1px 3px 1px rgba(60, 64, 67, 0.15);\n",
              "      fill: #174EA6;\n",
              "    }\n",
              "\n",
              "    .colab-df-buttons div {\n",
              "      margin-bottom: 4px;\n",
              "    }\n",
              "\n",
              "    [theme=dark] .colab-df-convert {\n",
              "      background-color: #3B4455;\n",
              "      fill: #D2E3FC;\n",
              "    }\n",
              "\n",
              "    [theme=dark] .colab-df-convert:hover {\n",
              "      background-color: #434B5C;\n",
              "      box-shadow: 0px 1px 3px 1px rgba(0, 0, 0, 0.15);\n",
              "      filter: drop-shadow(0px 1px 2px rgba(0, 0, 0, 0.3));\n",
              "      fill: #FFFFFF;\n",
              "    }\n",
              "  </style>\n",
              "\n",
              "    <script>\n",
              "      const buttonEl =\n",
              "        document.querySelector('#df-5ca27123-94c8-40d1-8e8f-34dbb7091b0c button.colab-df-convert');\n",
              "      buttonEl.style.display =\n",
              "        google.colab.kernel.accessAllowed ? 'block' : 'none';\n",
              "\n",
              "      async function convertToInteractive(key) {\n",
              "        const element = document.querySelector('#df-5ca27123-94c8-40d1-8e8f-34dbb7091b0c');\n",
              "        const dataTable =\n",
              "          await google.colab.kernel.invokeFunction('convertToInteractive',\n",
              "                                                    [key], {});\n",
              "        if (!dataTable) return;\n",
              "\n",
              "        const docLinkHtml = 'Like what you see? Visit the ' +\n",
              "          '<a target=\"_blank\" href=https://colab.research.google.com/notebooks/data_table.ipynb>data table notebook</a>'\n",
              "          + ' to learn more about interactive tables.';\n",
              "        element.innerHTML = '';\n",
              "        dataTable['output_type'] = 'display_data';\n",
              "        await google.colab.output.renderOutput(dataTable, element);\n",
              "        const docLink = document.createElement('div');\n",
              "        docLink.innerHTML = docLinkHtml;\n",
              "        element.appendChild(docLink);\n",
              "      }\n",
              "    </script>\n",
              "  </div>\n",
              "\n",
              "\n",
              "<div id=\"df-d2df0d7b-194d-49b2-8c18-36e4ba17d4d3\">\n",
              "  <button class=\"colab-df-quickchart\" onclick=\"quickchart('df-d2df0d7b-194d-49b2-8c18-36e4ba17d4d3')\"\n",
              "            title=\"Suggest charts\"\n",
              "            style=\"display:none;\">\n",
              "\n",
              "<svg xmlns=\"http://www.w3.org/2000/svg\" height=\"24px\"viewBox=\"0 0 24 24\"\n",
              "     width=\"24px\">\n",
              "    <g>\n",
              "        <path d=\"M19 3H5c-1.1 0-2 .9-2 2v14c0 1.1.9 2 2 2h14c1.1 0 2-.9 2-2V5c0-1.1-.9-2-2-2zM9 17H7v-7h2v7zm4 0h-2V7h2v10zm4 0h-2v-4h2v4z\"/>\n",
              "    </g>\n",
              "</svg>\n",
              "  </button>\n",
              "\n",
              "<style>\n",
              "  .colab-df-quickchart {\n",
              "      --bg-color: #E8F0FE;\n",
              "      --fill-color: #1967D2;\n",
              "      --hover-bg-color: #E2EBFA;\n",
              "      --hover-fill-color: #174EA6;\n",
              "      --disabled-fill-color: #AAA;\n",
              "      --disabled-bg-color: #DDD;\n",
              "  }\n",
              "\n",
              "  [theme=dark] .colab-df-quickchart {\n",
              "      --bg-color: #3B4455;\n",
              "      --fill-color: #D2E3FC;\n",
              "      --hover-bg-color: #434B5C;\n",
              "      --hover-fill-color: #FFFFFF;\n",
              "      --disabled-bg-color: #3B4455;\n",
              "      --disabled-fill-color: #666;\n",
              "  }\n",
              "\n",
              "  .colab-df-quickchart {\n",
              "    background-color: var(--bg-color);\n",
              "    border: none;\n",
              "    border-radius: 50%;\n",
              "    cursor: pointer;\n",
              "    display: none;\n",
              "    fill: var(--fill-color);\n",
              "    height: 32px;\n",
              "    padding: 0;\n",
              "    width: 32px;\n",
              "  }\n",
              "\n",
              "  .colab-df-quickchart:hover {\n",
              "    background-color: var(--hover-bg-color);\n",
              "    box-shadow: 0 1px 2px rgba(60, 64, 67, 0.3), 0 1px 3px 1px rgba(60, 64, 67, 0.15);\n",
              "    fill: var(--button-hover-fill-color);\n",
              "  }\n",
              "\n",
              "  .colab-df-quickchart-complete:disabled,\n",
              "  .colab-df-quickchart-complete:disabled:hover {\n",
              "    background-color: var(--disabled-bg-color);\n",
              "    fill: var(--disabled-fill-color);\n",
              "    box-shadow: none;\n",
              "  }\n",
              "\n",
              "  .colab-df-spinner {\n",
              "    border: 2px solid var(--fill-color);\n",
              "    border-color: transparent;\n",
              "    border-bottom-color: var(--fill-color);\n",
              "    animation:\n",
              "      spin 1s steps(1) infinite;\n",
              "  }\n",
              "\n",
              "  @keyframes spin {\n",
              "    0% {\n",
              "      border-color: transparent;\n",
              "      border-bottom-color: var(--fill-color);\n",
              "      border-left-color: var(--fill-color);\n",
              "    }\n",
              "    20% {\n",
              "      border-color: transparent;\n",
              "      border-left-color: var(--fill-color);\n",
              "      border-top-color: var(--fill-color);\n",
              "    }\n",
              "    30% {\n",
              "      border-color: transparent;\n",
              "      border-left-color: var(--fill-color);\n",
              "      border-top-color: var(--fill-color);\n",
              "      border-right-color: var(--fill-color);\n",
              "    }\n",
              "    40% {\n",
              "      border-color: transparent;\n",
              "      border-right-color: var(--fill-color);\n",
              "      border-top-color: var(--fill-color);\n",
              "    }\n",
              "    60% {\n",
              "      border-color: transparent;\n",
              "      border-right-color: var(--fill-color);\n",
              "    }\n",
              "    80% {\n",
              "      border-color: transparent;\n",
              "      border-right-color: var(--fill-color);\n",
              "      border-bottom-color: var(--fill-color);\n",
              "    }\n",
              "    90% {\n",
              "      border-color: transparent;\n",
              "      border-bottom-color: var(--fill-color);\n",
              "    }\n",
              "  }\n",
              "</style>\n",
              "\n",
              "  <script>\n",
              "    async function quickchart(key) {\n",
              "      const quickchartButtonEl =\n",
              "        document.querySelector('#' + key + ' button');\n",
              "      quickchartButtonEl.disabled = true;  // To prevent multiple clicks.\n",
              "      quickchartButtonEl.classList.add('colab-df-spinner');\n",
              "      try {\n",
              "        const charts = await google.colab.kernel.invokeFunction(\n",
              "            'suggestCharts', [key], {});\n",
              "      } catch (error) {\n",
              "        console.error('Error during call to suggestCharts:', error);\n",
              "      }\n",
              "      quickchartButtonEl.classList.remove('colab-df-spinner');\n",
              "      quickchartButtonEl.classList.add('colab-df-quickchart-complete');\n",
              "    }\n",
              "    (() => {\n",
              "      let quickchartButtonEl =\n",
              "        document.querySelector('#df-d2df0d7b-194d-49b2-8c18-36e4ba17d4d3 button');\n",
              "      quickchartButtonEl.style.display =\n",
              "        google.colab.kernel.accessAllowed ? 'block' : 'none';\n",
              "    })();\n",
              "  </script>\n",
              "</div>\n",
              "\n",
              "    </div>\n",
              "  </div>\n"
            ],
            "application/vnd.google.colaboratory.intrinsic+json": {
              "type": "dataframe",
              "variable_name": "df",
              "summary": "{\n  \"name\": \"df\",\n  \"rows\": 33944,\n  \"fields\": [\n    {\n      \"column\": \"imdbId\",\n      \"properties\": {\n        \"dtype\": \"number\",\n        \"std\": 1194769,\n        \"min\": 3,\n        \"max\": 6098922,\n        \"num_unique_values\": 33944,\n        \"samples\": [\n          1217578,\n          74157,\n          1539313\n        ],\n        \"semantic_type\": \"\",\n        \"description\": \"\"\n      }\n    },\n    {\n      \"column\": \"Genre\",\n      \"properties\": {\n        \"dtype\": \"category\",\n        \"num_unique_values\": 1214,\n        \"samples\": [\n          \"Documentary|Crime|News\",\n          \"Documentary|Drama|News\",\n          \"Comedy|Thriller\"\n        ],\n        \"semantic_type\": \"\",\n        \"description\": \"\"\n      }\n    },\n    {\n      \"column\": \"Title\",\n      \"properties\": {\n        \"dtype\": \"string\",\n        \"num_unique_values\": 33911,\n        \"samples\": [\n          \"I Saw Mommy Kissing Santa Claus (2002)\",\n          \"Gold Diggers of 1933 (1933)\",\n          \"Murder in Greenwich (2002)\"\n        ],\n        \"semantic_type\": \"\",\n        \"description\": \"\"\n      }\n    },\n    {\n      \"column\": \"Image_Paths\",\n      \"properties\": {\n        \"dtype\": \"string\",\n        \"num_unique_values\": 33944,\n        \"samples\": [\n          \"/content/drive/MyDrive/Posters/1217578.jpg\",\n          \"/content/drive/MyDrive/Posters/74157.jpg\",\n          \"/content/drive/MyDrive/Posters/1539313.jpg\"\n        ],\n        \"semantic_type\": \"\",\n        \"description\": \"\"\n      }\n    },\n    {\n      \"column\": \"emotion\",\n      \"properties\": {\n        \"dtype\": \"category\",\n        \"num_unique_values\": 81,\n        \"samples\": [\n          \"['Neutral', 'Angry', 'Disgust']\",\n          \"['Happy', 'Surprised', 'Sad']\",\n          \"['Happy', 'Fear', 'Surprised', 'Sad']\"\n        ],\n        \"semantic_type\": \"\",\n        \"description\": \"\"\n      }\n    }\n  ]\n}"
            }
          },
          "metadata": {},
          "execution_count": 53
        }
      ],
      "source": [
        "df = pd.read_csv(\"/content/drive/MyDrive/MovieGenreEmotion_clean.csv\", encoding='ISO-8859-1')\n",
        "df.head()"
      ]
    },
    {
      "cell_type": "code",
      "execution_count": null,
      "metadata": {
        "colab": {
          "base_uri": "https://localhost:8080/"
        },
        "id": "YXw0Au3pqcKG",
        "outputId": "8d9714bd-c431-4410-db58-cb1acef05857"
      },
      "outputs": [
        {
          "output_type": "stream",
          "name": "stdout",
          "text": [
            "Requirement already satisfied: tensorflow in /usr/local/lib/python3.11/dist-packages (2.17.1)\n",
            "Requirement already satisfied: keras in /usr/local/lib/python3.11/dist-packages (3.5.0)\n",
            "Requirement already satisfied: pandas in /usr/local/lib/python3.11/dist-packages (2.2.2)\n",
            "Requirement already satisfied: numpy in /usr/local/lib/python3.11/dist-packages (1.26.4)\n",
            "Requirement already satisfied: matplotlib in /usr/local/lib/python3.11/dist-packages (3.10.0)\n",
            "Requirement already satisfied: absl-py>=1.0.0 in /usr/local/lib/python3.11/dist-packages (from tensorflow) (1.4.0)\n",
            "Requirement already satisfied: astunparse>=1.6.0 in /usr/local/lib/python3.11/dist-packages (from tensorflow) (1.6.3)\n",
            "Requirement already satisfied: flatbuffers>=24.3.25 in /usr/local/lib/python3.11/dist-packages (from tensorflow) (24.12.23)\n",
            "Requirement already satisfied: gast!=0.5.0,!=0.5.1,!=0.5.2,>=0.2.1 in /usr/local/lib/python3.11/dist-packages (from tensorflow) (0.6.0)\n",
            "Requirement already satisfied: google-pasta>=0.1.1 in /usr/local/lib/python3.11/dist-packages (from tensorflow) (0.2.0)\n",
            "Requirement already satisfied: h5py>=3.10.0 in /usr/local/lib/python3.11/dist-packages (from tensorflow) (3.12.1)\n",
            "Requirement already satisfied: libclang>=13.0.0 in /usr/local/lib/python3.11/dist-packages (from tensorflow) (18.1.1)\n",
            "Requirement already satisfied: ml-dtypes<0.5.0,>=0.3.1 in /usr/local/lib/python3.11/dist-packages (from tensorflow) (0.4.1)\n",
            "Requirement already satisfied: opt-einsum>=2.3.2 in /usr/local/lib/python3.11/dist-packages (from tensorflow) (3.4.0)\n",
            "Requirement already satisfied: packaging in /usr/local/lib/python3.11/dist-packages (from tensorflow) (24.2)\n",
            "Requirement already satisfied: protobuf!=4.21.0,!=4.21.1,!=4.21.2,!=4.21.3,!=4.21.4,!=4.21.5,<5.0.0dev,>=3.20.3 in /usr/local/lib/python3.11/dist-packages (from tensorflow) (4.25.5)\n",
            "Requirement already satisfied: requests<3,>=2.21.0 in /usr/local/lib/python3.11/dist-packages (from tensorflow) (2.32.3)\n",
            "Requirement already satisfied: setuptools in /usr/local/lib/python3.11/dist-packages (from tensorflow) (75.1.0)\n",
            "Requirement already satisfied: six>=1.12.0 in /usr/local/lib/python3.11/dist-packages (from tensorflow) (1.17.0)\n",
            "Requirement already satisfied: termcolor>=1.1.0 in /usr/local/lib/python3.11/dist-packages (from tensorflow) (2.5.0)\n",
            "Requirement already satisfied: typing-extensions>=3.6.6 in /usr/local/lib/python3.11/dist-packages (from tensorflow) (4.12.2)\n",
            "Requirement already satisfied: wrapt>=1.11.0 in /usr/local/lib/python3.11/dist-packages (from tensorflow) (1.17.0)\n",
            "Requirement already satisfied: grpcio<2.0,>=1.24.3 in /usr/local/lib/python3.11/dist-packages (from tensorflow) (1.69.0)\n",
            "Requirement already satisfied: tensorboard<2.18,>=2.17 in /usr/local/lib/python3.11/dist-packages (from tensorflow) (2.17.1)\n",
            "Requirement already satisfied: tensorflow-io-gcs-filesystem>=0.23.1 in /usr/local/lib/python3.11/dist-packages (from tensorflow) (0.37.1)\n",
            "Requirement already satisfied: rich in /usr/local/lib/python3.11/dist-packages (from keras) (13.9.4)\n",
            "Requirement already satisfied: namex in /usr/local/lib/python3.11/dist-packages (from keras) (0.0.8)\n",
            "Requirement already satisfied: optree in /usr/local/lib/python3.11/dist-packages (from keras) (0.13.1)\n",
            "Requirement already satisfied: python-dateutil>=2.8.2 in /usr/local/lib/python3.11/dist-packages (from pandas) (2.8.2)\n",
            "Requirement already satisfied: pytz>=2020.1 in /usr/local/lib/python3.11/dist-packages (from pandas) (2024.2)\n",
            "Requirement already satisfied: tzdata>=2022.7 in /usr/local/lib/python3.11/dist-packages (from pandas) (2024.2)\n",
            "Requirement already satisfied: contourpy>=1.0.1 in /usr/local/lib/python3.11/dist-packages (from matplotlib) (1.3.1)\n",
            "Requirement already satisfied: cycler>=0.10 in /usr/local/lib/python3.11/dist-packages (from matplotlib) (0.12.1)\n",
            "Requirement already satisfied: fonttools>=4.22.0 in /usr/local/lib/python3.11/dist-packages (from matplotlib) (4.55.3)\n",
            "Requirement already satisfied: kiwisolver>=1.3.1 in /usr/local/lib/python3.11/dist-packages (from matplotlib) (1.4.8)\n",
            "Requirement already satisfied: pillow>=8 in /usr/local/lib/python3.11/dist-packages (from matplotlib) (11.1.0)\n",
            "Requirement already satisfied: pyparsing>=2.3.1 in /usr/local/lib/python3.11/dist-packages (from matplotlib) (3.2.1)\n",
            "Requirement already satisfied: wheel<1.0,>=0.23.0 in /usr/local/lib/python3.11/dist-packages (from astunparse>=1.6.0->tensorflow) (0.45.1)\n",
            "Requirement already satisfied: charset-normalizer<4,>=2 in /usr/local/lib/python3.11/dist-packages (from requests<3,>=2.21.0->tensorflow) (3.4.1)\n",
            "Requirement already satisfied: idna<4,>=2.5 in /usr/local/lib/python3.11/dist-packages (from requests<3,>=2.21.0->tensorflow) (3.10)\n",
            "Requirement already satisfied: urllib3<3,>=1.21.1 in /usr/local/lib/python3.11/dist-packages (from requests<3,>=2.21.0->tensorflow) (2.3.0)\n",
            "Requirement already satisfied: certifi>=2017.4.17 in /usr/local/lib/python3.11/dist-packages (from requests<3,>=2.21.0->tensorflow) (2024.12.14)\n",
            "Requirement already satisfied: markdown>=2.6.8 in /usr/local/lib/python3.11/dist-packages (from tensorboard<2.18,>=2.17->tensorflow) (3.7)\n",
            "Requirement already satisfied: tensorboard-data-server<0.8.0,>=0.7.0 in /usr/local/lib/python3.11/dist-packages (from tensorboard<2.18,>=2.17->tensorflow) (0.7.2)\n",
            "Requirement already satisfied: werkzeug>=1.0.1 in /usr/local/lib/python3.11/dist-packages (from tensorboard<2.18,>=2.17->tensorflow) (3.1.3)\n",
            "Requirement already satisfied: markdown-it-py>=2.2.0 in /usr/local/lib/python3.11/dist-packages (from rich->keras) (3.0.0)\n",
            "Requirement already satisfied: pygments<3.0.0,>=2.13.0 in /usr/local/lib/python3.11/dist-packages (from rich->keras) (2.18.0)\n",
            "Requirement already satisfied: mdurl~=0.1 in /usr/local/lib/python3.11/dist-packages (from markdown-it-py>=2.2.0->rich->keras) (0.1.2)\n",
            "Requirement already satisfied: MarkupSafe>=2.1.1 in /usr/local/lib/python3.11/dist-packages (from werkzeug>=1.0.1->tensorboard<2.18,>=2.17->tensorflow) (3.0.2)\n"
          ]
        }
      ],
      "source": [
        "pip install tensorflow keras pandas numpy matplotlib"
      ]
    },
    {
      "cell_type": "code",
      "execution_count": null,
      "metadata": {
        "colab": {
          "base_uri": "https://localhost:8080/"
        },
        "id": "AF5bcGIzl0vI",
        "outputId": "cec0d463-ee60-4dde-878d-6661988bf0ee"
      },
      "outputs": [
        {
          "output_type": "stream",
          "name": "stdout",
          "text": [
            "Requirement already satisfied: tensorflow in /usr/local/lib/python3.11/dist-packages (2.17.1)\n",
            "Collecting tensorflow\n",
            "  Downloading tensorflow-2.18.0-cp311-cp311-manylinux_2_17_x86_64.manylinux2014_x86_64.whl.metadata (4.1 kB)\n",
            "Requirement already satisfied: absl-py>=1.0.0 in /usr/local/lib/python3.11/dist-packages (from tensorflow) (1.4.0)\n",
            "Requirement already satisfied: astunparse>=1.6.0 in /usr/local/lib/python3.11/dist-packages (from tensorflow) (1.6.3)\n",
            "Requirement already satisfied: flatbuffers>=24.3.25 in /usr/local/lib/python3.11/dist-packages (from tensorflow) (24.12.23)\n",
            "Requirement already satisfied: gast!=0.5.0,!=0.5.1,!=0.5.2,>=0.2.1 in /usr/local/lib/python3.11/dist-packages (from tensorflow) (0.6.0)\n",
            "Requirement already satisfied: google-pasta>=0.1.1 in /usr/local/lib/python3.11/dist-packages (from tensorflow) (0.2.0)\n",
            "Requirement already satisfied: libclang>=13.0.0 in /usr/local/lib/python3.11/dist-packages (from tensorflow) (18.1.1)\n",
            "Requirement already satisfied: opt-einsum>=2.3.2 in /usr/local/lib/python3.11/dist-packages (from tensorflow) (3.4.0)\n",
            "Requirement already satisfied: packaging in /usr/local/lib/python3.11/dist-packages (from tensorflow) (24.2)\n",
            "Requirement already satisfied: protobuf!=4.21.0,!=4.21.1,!=4.21.2,!=4.21.3,!=4.21.4,!=4.21.5,<6.0.0dev,>=3.20.3 in /usr/local/lib/python3.11/dist-packages (from tensorflow) (4.25.5)\n",
            "Requirement already satisfied: requests<3,>=2.21.0 in /usr/local/lib/python3.11/dist-packages (from tensorflow) (2.32.3)\n",
            "Requirement already satisfied: setuptools in /usr/local/lib/python3.11/dist-packages (from tensorflow) (75.1.0)\n",
            "Requirement already satisfied: six>=1.12.0 in /usr/local/lib/python3.11/dist-packages (from tensorflow) (1.17.0)\n",
            "Requirement already satisfied: termcolor>=1.1.0 in /usr/local/lib/python3.11/dist-packages (from tensorflow) (2.5.0)\n",
            "Requirement already satisfied: typing-extensions>=3.6.6 in /usr/local/lib/python3.11/dist-packages (from tensorflow) (4.12.2)\n",
            "Requirement already satisfied: wrapt>=1.11.0 in /usr/local/lib/python3.11/dist-packages (from tensorflow) (1.17.0)\n",
            "Requirement already satisfied: grpcio<2.0,>=1.24.3 in /usr/local/lib/python3.11/dist-packages (from tensorflow) (1.69.0)\n",
            "Collecting tensorboard<2.19,>=2.18 (from tensorflow)\n",
            "  Downloading tensorboard-2.18.0-py3-none-any.whl.metadata (1.6 kB)\n",
            "Requirement already satisfied: keras>=3.5.0 in /usr/local/lib/python3.11/dist-packages (from tensorflow) (3.5.0)\n",
            "Requirement already satisfied: numpy<2.1.0,>=1.26.0 in /usr/local/lib/python3.11/dist-packages (from tensorflow) (1.26.4)\n",
            "Requirement already satisfied: h5py>=3.11.0 in /usr/local/lib/python3.11/dist-packages (from tensorflow) (3.12.1)\n",
            "Requirement already satisfied: ml-dtypes<0.5.0,>=0.4.0 in /usr/local/lib/python3.11/dist-packages (from tensorflow) (0.4.1)\n",
            "Requirement already satisfied: tensorflow-io-gcs-filesystem>=0.23.1 in /usr/local/lib/python3.11/dist-packages (from tensorflow) (0.37.1)\n",
            "Requirement already satisfied: wheel<1.0,>=0.23.0 in /usr/local/lib/python3.11/dist-packages (from astunparse>=1.6.0->tensorflow) (0.45.1)\n",
            "Requirement already satisfied: rich in /usr/local/lib/python3.11/dist-packages (from keras>=3.5.0->tensorflow) (13.9.4)\n",
            "Requirement already satisfied: namex in /usr/local/lib/python3.11/dist-packages (from keras>=3.5.0->tensorflow) (0.0.8)\n",
            "Requirement already satisfied: optree in /usr/local/lib/python3.11/dist-packages (from keras>=3.5.0->tensorflow) (0.13.1)\n",
            "Requirement already satisfied: charset-normalizer<4,>=2 in /usr/local/lib/python3.11/dist-packages (from requests<3,>=2.21.0->tensorflow) (3.4.1)\n",
            "Requirement already satisfied: idna<4,>=2.5 in /usr/local/lib/python3.11/dist-packages (from requests<3,>=2.21.0->tensorflow) (3.10)\n",
            "Requirement already satisfied: urllib3<3,>=1.21.1 in /usr/local/lib/python3.11/dist-packages (from requests<3,>=2.21.0->tensorflow) (2.3.0)\n",
            "Requirement already satisfied: certifi>=2017.4.17 in /usr/local/lib/python3.11/dist-packages (from requests<3,>=2.21.0->tensorflow) (2024.12.14)\n",
            "Requirement already satisfied: markdown>=2.6.8 in /usr/local/lib/python3.11/dist-packages (from tensorboard<2.19,>=2.18->tensorflow) (3.7)\n",
            "Requirement already satisfied: tensorboard-data-server<0.8.0,>=0.7.0 in /usr/local/lib/python3.11/dist-packages (from tensorboard<2.19,>=2.18->tensorflow) (0.7.2)\n",
            "Requirement already satisfied: werkzeug>=1.0.1 in /usr/local/lib/python3.11/dist-packages (from tensorboard<2.19,>=2.18->tensorflow) (3.1.3)\n",
            "Requirement already satisfied: MarkupSafe>=2.1.1 in /usr/local/lib/python3.11/dist-packages (from werkzeug>=1.0.1->tensorboard<2.19,>=2.18->tensorflow) (3.0.2)\n",
            "Requirement already satisfied: markdown-it-py>=2.2.0 in /usr/local/lib/python3.11/dist-packages (from rich->keras>=3.5.0->tensorflow) (3.0.0)\n",
            "Requirement already satisfied: pygments<3.0.0,>=2.13.0 in /usr/local/lib/python3.11/dist-packages (from rich->keras>=3.5.0->tensorflow) (2.18.0)\n",
            "Requirement already satisfied: mdurl~=0.1 in /usr/local/lib/python3.11/dist-packages (from markdown-it-py>=2.2.0->rich->keras>=3.5.0->tensorflow) (0.1.2)\n",
            "Downloading tensorflow-2.18.0-cp311-cp311-manylinux_2_17_x86_64.manylinux2014_x86_64.whl (615.4 MB)\n",
            "\u001b[2K   \u001b[90m━━━━━━━━━━━━━━━━━━━━━━━━━━━━━━━━━━━━━━━━\u001b[0m \u001b[32m615.4/615.4 MB\u001b[0m \u001b[31m1.2 MB/s\u001b[0m eta \u001b[36m0:00:00\u001b[0m\n",
            "\u001b[?25hDownloading tensorboard-2.18.0-py3-none-any.whl (5.5 MB)\n",
            "\u001b[2K   \u001b[90m━━━━━━━━━━━━━━━━━━━━━━━━━━━━━━━━━━━━━━━━\u001b[0m \u001b[32m5.5/5.5 MB\u001b[0m \u001b[31m35.8 MB/s\u001b[0m eta \u001b[36m0:00:00\u001b[0m\n",
            "\u001b[?25hInstalling collected packages: tensorboard, tensorflow\n",
            "  Attempting uninstall: tensorboard\n",
            "    Found existing installation: tensorboard 2.17.1\n",
            "    Uninstalling tensorboard-2.17.1:\n",
            "      Successfully uninstalled tensorboard-2.17.1\n",
            "  Attempting uninstall: tensorflow\n",
            "    Found existing installation: tensorflow 2.17.1\n",
            "    Uninstalling tensorflow-2.17.1:\n",
            "      Successfully uninstalled tensorflow-2.17.1\n",
            "\u001b[31mERROR: pip's dependency resolver does not currently take into account all the packages that are installed. This behaviour is the source of the following dependency conflicts.\n",
            "tf-keras 2.17.0 requires tensorflow<2.18,>=2.17, but you have tensorflow 2.18.0 which is incompatible.\u001b[0m\u001b[31m\n",
            "\u001b[0mSuccessfully installed tensorboard-2.18.0 tensorflow-2.18.0\n"
          ]
        }
      ],
      "source": [
        "!pip install --upgrade tensorflow"
      ]
    },
    {
      "cell_type": "code",
      "execution_count": null,
      "metadata": {
        "colab": {
          "base_uri": "https://localhost:8080/"
        },
        "id": "BbeBsjQO9lZj",
        "outputId": "3727456a-2618-466b-e725-1f4bc8e4b855"
      },
      "outputs": [
        {
          "output_type": "stream",
          "name": "stdout",
          "text": [
            "['/content/drive/MyDrive/Posters/197154.jpg', '/content/drive/MyDrive/Posters/55995.jpg', '/content/drive/MyDrive/Posters/1975179.jpg', '/content/drive/MyDrive/Posters/1942798.jpg', '/content/drive/MyDrive/Posters/4063438.jpg']\n"
          ]
        }
      ],
      "source": [
        "# Path to the folder where images are stored\n",
        "image_folder = '/content/drive/MyDrive/Posters'\n",
        "\n",
        "# Get the list of all image files in the folder\n",
        "image_paths = [os.path.join(image_folder, img) for img in os.listdir(image_folder) if img.endswith('.jpg')]\n",
        "\n",
        "# Display the first few image paths\n",
        "print(image_paths[:5])"
      ]
    },
    {
      "cell_type": "code",
      "execution_count": null,
      "metadata": {
        "id": "nITsuPBWCZmt"
      },
      "outputs": [],
      "source": [
        "# Create list of all emotions\n",
        "emotions = ['Fear', 'Disgust', 'Surprised', 'Neutral', 'Happy', 'Sad', 'Angry']"
      ]
    },
    {
      "cell_type": "code",
      "execution_count": null,
      "metadata": {
        "id": "6i04zijRCYWs"
      },
      "outputs": [],
      "source": [
        "emotion_to_index = {emotion: idx for idx, emotion in enumerate(emotions)}"
      ]
    },
    {
      "cell_type": "code",
      "execution_count": null,
      "metadata": {
        "id": "rIoOcF5XGaVr"
      },
      "outputs": [],
      "source": [
        "df_sampled = df.sample(n=6800, random_state=42)"
      ]
    },
    {
      "cell_type": "code",
      "execution_count": null,
      "metadata": {
        "id": "b02d3HK9UnnD"
      },
      "outputs": [],
      "source": [
        "genres_to_emotion = {\n",
        "    'Action': ['Surprised', 'Fear', 'Angry'],\n",
        "    'Adventure': ['Surprised', 'Happy'],\n",
        "    'Animation': ['Happy', 'Surprised', 'Sad'],\n",
        "    'Biography': ['Sad', 'Angry', 'Neutral'],\n",
        "    'Comedy': ['Happy', 'Surprised'],\n",
        "    'Crime': ['Angry', 'Fear', 'Disgust'],\n",
        "    'Documentary': ['Neutral','Angry', 'Disgust'],\n",
        "    'Drama': ['Sad', 'Angry'],\n",
        "    'Family': ['Happy', 'Sad', 'Neutral'],\n",
        "    'Fantasy': ['Surprised', 'Happy', 'Fear'],\n",
        "    'History': ['Sad', 'Angry'],\n",
        "    'Horror': ['Fear', 'Disgust'],\n",
        "    'Music': ['Happy', 'Neutral'],\n",
        "    'Mystery': ['Surprised', 'Fear'],\n",
        "    'Romance': ['Happy', 'Sad'],\n",
        "    'Sci-Fi': ['Surprised', 'Fear', 'Disgust'],\n",
        "    'Sport': ['Happy', 'Surprised'],\n",
        "    'Thriller': ['Fear', 'Surprised'],\n",
        "    'War': ['Sad', 'Angry']\n",
        "}"
      ]
    },
    {
      "cell_type": "code",
      "source": [
        "# Converts movie genres into a multi-hot encoded emotion vector.\n",
        "def genres_to_emotions(genres):\n",
        "    genres_list = genres.split('|') if pd.notnull(genres) else []\n",
        "    emotion_vector = [0] * len(emotions)\n",
        "\n",
        "    for genre in genres_list:\n",
        "        # Skip invalid or empty genres\n",
        "        if genre in genres_to_emotion:\n",
        "            for emotion in genres_to_emotion[genre]:\n",
        "                emotion_index = emotions.index(emotion)\n",
        "                emotion_vector[emotion_index] = 1\n",
        "\n",
        "    return emotion_vector\n",
        "\n",
        "# Preprocessing Step\n",
        "valid_genres = set(genres_to_emotion.keys())\n",
        "\n",
        "def filter_valid_genres(row):\n",
        "    genres = row['Genre'].split('|') if pd.notnull(row['Genre']) else []\n",
        "    return all(genre in valid_genres for genre in genres)\n",
        "\n",
        "df_sampled = df_sampled[df_sampled.apply(filter_valid_genres, axis=1)]\n",
        "df_sampled['emotion'] = df_sampled['Genre'].apply(genres_to_emotions)"
      ],
      "metadata": {
        "id": "PjIncG6Dpcm5"
      },
      "execution_count": null,
      "outputs": []
    },
    {
      "cell_type": "code",
      "execution_count": null,
      "metadata": {
        "colab": {
          "base_uri": "https://localhost:8080/"
        },
        "id": "tqx5WS2Pjof2",
        "outputId": "8c47ba7e-2d4a-4d1e-9201-23dfb5d92a87"
      },
      "outputs": [
        {
          "output_type": "stream",
          "name": "stdout",
          "text": [
            "The 'emotion' column is likely multi-hot encoded.\n"
          ]
        }
      ],
      "source": [
        "#Checks if the 'emotion' column in a DataFrame is multi-hot encoded based on the 'genres_to_emotion' mapping.\n",
        "\n",
        "def is_emotion_multi_hot_encoded(df):\n",
        "\n",
        "    # Check if the 'emotion' column exists and contains lists\n",
        "    if 'emotion' in df.columns and all(isinstance(item, list) for item in df['emotion']):\n",
        "        # Check if any movie has multiple emotions (more than one '1' in the list)\n",
        "        has_multiple_emotions = any(sum(item) > 1 for item in df['emotion'])\n",
        "        return has_multiple_emotions\n",
        "    else:\n",
        "        return False\n",
        "\n",
        "# Check if 'emotion' column is multi-hot encoded\n",
        "if is_emotion_multi_hot_encoded(df_sampled):\n",
        "    print(\"The 'emotion' column is likely multi-hot encoded.\")\n",
        "else:\n",
        "    print(\"The 'emotion' column is not multi-hot encoded.\")"
      ]
    },
    {
      "cell_type": "code",
      "source": [
        "print(df_sampled[['Genre', 'emotion']].head())\n"
      ],
      "metadata": {
        "colab": {
          "base_uri": "https://localhost:8080/"
        },
        "id": "-tmXCvN4F3M5",
        "outputId": "9a4b96cc-2cbd-4270-ace5-654a2f51a1ab"
      },
      "execution_count": null,
      "outputs": [
        {
          "output_type": "stream",
          "name": "stdout",
          "text": [
            "                   Genre                emotion\n",
            "28892              Drama  [0, 0, 0, 0, 0, 1, 1]\n",
            "3776   Adventure|Fantasy  [1, 0, 1, 0, 1, 0, 0]\n",
            "23339             Sci-Fi  [1, 1, 1, 0, 0, 0, 0]\n",
            "7266              Comedy  [0, 0, 1, 0, 1, 0, 0]\n",
            "13416      Drama|Fantasy  [1, 0, 1, 0, 1, 1, 1]\n"
          ]
        }
      ]
    },
    {
      "cell_type": "code",
      "source": [
        "class_weights = {}\n",
        "for i, emotion in enumerate(emotions):\n",
        "    # Accessing the i-th emotion using a list comprehension\n",
        "    emotion_values = [row[i] for row in df_sampled['emotion'].to_list()]\n",
        "    class_weights[i] = class_weight.compute_class_weight(\n",
        "        'balanced',\n",
        "        classes=np.unique(emotion_values),\n",
        "        y=emotion_values\n",
        "    )"
      ],
      "metadata": {
        "id": "-UQdR9N6AkhP"
      },
      "execution_count": null,
      "outputs": []
    },
    {
      "cell_type": "code",
      "source": [
        "all_emotions = np.concatenate(df_sampled['emotion'].to_list())\n",
        "class_weights = class_weight.compute_class_weight(\n",
        "    'balanced',\n",
        "    classes=np.unique(all_emotions),  # Use all unique emotion values (0 and 1)\n",
        "    y=all_emotions  # Use all emotion occurrences\n",
        ")"
      ],
      "metadata": {
        "id": "TIAJiJH744ky"
      },
      "execution_count": null,
      "outputs": []
    },
    {
      "cell_type": "code",
      "execution_count": null,
      "metadata": {
        "id": "dAdwDbj3UDtq"
      },
      "outputs": [],
      "source": [
        "assert df_sampled['emotion'].apply(lambda x: sum(x) > 0).all(), \"Some movies have no emotions assigned!\""
      ]
    },
    {
      "cell_type": "code",
      "execution_count": null,
      "metadata": {
        "colab": {
          "base_uri": "https://localhost:8080/"
        },
        "id": "jqanoQ8Dj7yW",
        "outputId": "3f390f55-b92a-4aeb-937f-ecd2861fdeec"
      },
      "outputs": [
        {
          "output_type": "stream",
          "name": "stdout",
          "text": [
            "Genres: Animation|Adventure|Comedy\n",
            "Multi-hot encoded emotions: [0, 0, 1, 0, 1, 1, 0]\n",
            "Emotions: ['Fear', 'Disgust', 'Surprised', 'Neutral', 'Happy', 'Sad', 'Angry']\n"
          ]
        }
      ],
      "source": [
        "# Sample test input\n",
        "sample_genres = \"Animation|Adventure|Comedy\"\n",
        "\n",
        "# Get the multi-hot encoded emotion vector\n",
        "multi_hot_vector = genres_to_emotions(sample_genres)\n",
        "\n",
        "# Print the results\n",
        "print(f\"Genres: {sample_genres}\")\n",
        "print(f\"Multi-hot encoded emotions: {multi_hot_vector}\")\n",
        "print(f\"Emotions: {emotions}\")  # To map the indices to actual emotions"
      ]
    },
    {
      "cell_type": "code",
      "execution_count": null,
      "metadata": {
        "id": "sUSL84nsd4ti"
      },
      "outputs": [],
      "source": [
        "batch_size = 32\n",
        "img_size = (224, 224)"
      ]
    },
    {
      "cell_type": "code",
      "execution_count": null,
      "metadata": {
        "id": "RPJFX4MFe6dn"
      },
      "outputs": [],
      "source": [
        "# Flatten the emotion lists to get all emotion occurrences\n",
        "all_emotions = np.concatenate(df_sampled['emotion'].to_list())\n",
        "\n",
        "# Calculate class weights for each emotion\n",
        "class_weights = class_weight.compute_class_weight(\n",
        "    'balanced',\n",
        "    classes=np.unique(all_emotions),  # Use all unique emotion values (0 and 1)\n",
        "    y=all_emotions  # Use all emotion occurrences\n",
        ")\n",
        "\n",
        "# Create a dictionary mapping emotion index to class weight\n",
        "class_weights_dict = {i: class_weights[i] for i in range(len(class_weights))}\n",
        "# Assume class_weights has weights for 0 and 1, representing absence and presence of emotions"
      ]
    },
    {
      "cell_type": "code",
      "execution_count": null,
      "metadata": {
        "colab": {
          "base_uri": "https://localhost:8080/",
          "height": 607
        },
        "id": "ME2uNv5jOh_Q",
        "outputId": "32c1ac26-2e18-4ac2-a3ec-ed7aa2eddd59"
      },
      "outputs": [
        {
          "output_type": "display_data",
          "data": {
            "text/plain": [
              "<Figure size 1000x600 with 1 Axes>"
            ],
            "image/png": "[encoded data removed]"
          },
          "metadata": {}
        }
      ],
      "source": [
        "def plot_emotion_distribution(df, genres_to_emotion, emotions):\n",
        "    emotion_counts = {emotion: 0 for emotion in emotions}\n",
        "\n",
        "    # Iterate through movie rows to collect emotion counts\n",
        "    for _, row in df.iterrows():\n",
        "        emotions_for_movie = genres_to_emotions(row['Genre'])  # Get emotions for the movie\n",
        "        if emotions_for_movie is not None:  # Skip movies with unmapped genres\n",
        "            for i, emotion_present in enumerate(emotions_for_movie):\n",
        "                if emotion_present:  # Increment count if emotion is present (1)\n",
        "                    emotion_counts[emotions[i]] += 1\n",
        "\n",
        "    plt.figure(figsize=(10, 6))  # Set figure size for better readability\n",
        "    plt.bar(emotion_counts.keys(), emotion_counts.values())\n",
        "    plt.title(\"Emotion Distribution\")\n",
        "    plt.xlabel(\"Emotions\")\n",
        "    plt.ylabel(\"Frequency\")\n",
        "    plt.xticks(rotation=45, ha='right')  # Rotate x-axis labels for clarity\n",
        "    plt.tight_layout()  # Adjust layout to prevent labels from overlapping\n",
        "    plt.show()\n",
        "\n",
        "plot_emotion_distribution(df_sampled, genres_to_emotions, emotions)"
      ]
    },
    {
      "cell_type": "code",
      "source": [
        "class ImageDataGeneratorWithEmotions(Sequence):\n",
        "    def __init__(self, image_folder, df_sampled, batch_size, img_size, emotions, shuffle=True, augment=False, **kwargs):\n",
        "        super().__init__(**kwargs)\n",
        "\n",
        "        self.image_folder = image_folder\n",
        "        self.df_sampled = df_sampled\n",
        "        self.batch_size = batch_size\n",
        "        self.img_size = img_size\n",
        "        self.emotions = emotions\n",
        "        self.shuffle = shuffle\n",
        "        self.augment = augment\n",
        "        self.indexes = np.arange(len(self.df_sampled))\n",
        "\n",
        "        # Initialize augmentation generator\n",
        "        self.datagen = ImageDataGenerator(\n",
        "            rotation_range=20,\n",
        "            width_shift_range=0.2,\n",
        "            height_shift_range=0.2,\n",
        "            shear_range=0.2,\n",
        "            zoom_range=0.2,\n",
        "            horizontal_flip=True,\n",
        "            fill_mode='nearest'\n",
        "        ) if self.augment else None\n",
        "\n",
        "        # Initialize index array\n",
        "        self.indexes = np.arange(len(self.df_sampled))\n",
        "        self.on_epoch_end()\n",
        "\n",
        "    def __len__(self):\n",
        "        # Number of batches per epoch\n",
        "        return int(np.ceil(len(self.df_sampled) / self.batch_size))\n",
        "\n",
        "    def __getitem__(self, index):\n",
        "        # Get batch indexes\n",
        "        start_index = index * self.batch_size\n",
        "        end_index = min((index + 1) * self.batch_size, len(self.df_sampled))\n",
        "        batch_indexes = self.indexes[start_index:end_index]\n",
        "\n",
        "        # Get batch data\n",
        "        batch_filenames = self.df_sampled.iloc[batch_indexes]['imdbId'].values\n",
        "        batch_genres = self.df_sampled.iloc[batch_indexes]['Genre'].values\n",
        "\n",
        "        # Initialize arrays\n",
        "        batch_size_actual = len(batch_filenames)\n",
        "        images = np.zeros((batch_size_actual, *self.img_size, 3), dtype=np.float32)\n",
        "        emotion_labels = np.zeros((batch_size_actual, len(self.emotions)), dtype=np.float32)\n",
        "\n",
        "        # Load and preprocess each image\n",
        "        for i, (imdbId, genres) in enumerate(zip(batch_filenames, batch_genres)):\n",
        "            img_path = os.path.join(self.image_folder, f\"{imdbId}.jpg\")\n",
        "            try:\n",
        "                img = load_img(img_path, target_size=self.img_size)\n",
        "                img_array = img_to_array(img)\n",
        "                if self.augment and self.datagen:\n",
        "                    img_array = self.datagen.random_transform(img_array)\n",
        "                img_array = preprocess_input(img_array)\n",
        "                images[i] = img_array\n",
        "                emotion_labels[i] = genres_to_emotions(genres)  # Reuse the function\n",
        "            except Exception as e:\n",
        "                print(f\"Error loading image {img_path}: {e}\")\n",
        "\n",
        "        return images, emotion_labels\n",
        "\n",
        "    def on_epoch_end(self):\n",
        "        # Shuffle the dataset at the end of each epoch\n",
        "        if self.shuffle:\n",
        "            np.random.shuffle(self.indexes)\n"
      ],
      "metadata": {
        "id": "OGPYqyh_ZTNn"
      },
      "execution_count": null,
      "outputs": []
    },
    {
      "cell_type": "code",
      "source": [
        "# Initialize and test the generator\n",
        "generator = ImageDataGeneratorWithEmotions(\n",
        "    image_folder=image_folder,\n",
        "    df_sampled=df_sampled,\n",
        "    batch_size=32,\n",
        "    img_size=(224, 224),\n",
        "    emotions=emotions,\n",
        "    shuffle=True,\n",
        "    augment=True\n",
        ")\n",
        "\n",
        "sample_images, sample_labels = next(iter(generator))\n",
        "print(\"Sample Labels from Generator:\", sample_labels)"
      ],
      "metadata": {
        "colab": {
          "base_uri": "https://localhost:8080/"
        },
        "id": "ZNASus24p9LJ",
        "outputId": "46d43257-d2a6-40c9-8e4c-687ea71c327c"
      },
      "execution_count": null,
      "outputs": [
        {
          "output_type": "stream",
          "name": "stdout",
          "text": [
            "Sample Labels from Generator: [[0. 0. 1. 0. 1. 1. 1.]\n",
            " [0. 0. 1. 1. 1. 1. 0.]\n",
            " [0. 0. 0. 0. 1. 1. 1.]\n",
            " [0. 0. 1. 1. 1. 1. 1.]\n",
            " [0. 0. 1. 0. 1. 0. 0.]\n",
            " [1. 1. 1. 0. 0. 1. 1.]\n",
            " [0. 0. 0. 0. 0. 1. 1.]\n",
            " [1. 0. 1. 0. 1. 1. 1.]\n",
            " [0. 0. 1. 0. 1. 0. 0.]\n",
            " [0. 0. 0. 0. 0. 1. 1.]\n",
            " [0. 0. 1. 0. 1. 1. 1.]\n",
            " [1. 1. 1. 0. 0. 0. 0.]\n",
            " [1. 1. 1. 0. 0. 1. 1.]\n",
            " [1. 0. 1. 0. 1. 1. 0.]\n",
            " [1. 1. 1. 0. 1. 0. 0.]\n",
            " [1. 1. 1. 0. 0. 0. 1.]\n",
            " [0. 0. 0. 0. 0. 1. 1.]\n",
            " [0. 0. 1. 0. 1. 0. 0.]\n",
            " [1. 0. 1. 0. 1. 0. 1.]\n",
            " [0. 0. 1. 1. 1. 1. 1.]\n",
            " [1. 0. 1. 0. 1. 1. 1.]\n",
            " [1. 1. 1. 0. 0. 1. 1.]\n",
            " [1. 1. 1. 0. 0. 1. 1.]\n",
            " [0. 0. 1. 0. 1. 1. 1.]\n",
            " [0. 0. 1. 0. 1. 1. 0.]\n",
            " [0. 0. 1. 0. 1. 1. 1.]\n",
            " [0. 0. 1. 0. 1. 1. 1.]\n",
            " [0. 0. 1. 0. 1. 0. 0.]\n",
            " [0. 0. 0. 1. 0. 1. 1.]\n",
            " [1. 0. 1. 1. 0. 1. 1.]\n",
            " [1. 0. 1. 0. 0. 1. 1.]\n",
            " [0. 0. 0. 0. 0. 1. 1.]]\n"
          ]
        }
      ]
    },
    {
      "cell_type": "code",
      "execution_count": null,
      "metadata": {
        "colab": {
          "base_uri": "https://localhost:8080/"
        },
        "id": "pv42HwLKCnBc",
        "outputId": "ea63e969-d900-4399-b010-6feff66b9b20"
      },
      "outputs": [
        {
          "output_type": "stream",
          "name": "stdout",
          "text": [
            "Training data: 5050 samples\n",
            "Validation data: 1263 samples\n"
          ]
        }
      ],
      "source": [
        "# Define valid genres\n",
        "valid_genres = set(genres_to_emotion.keys())\n",
        "\n",
        "# Filter the dataset to include only rows with valid genres\n",
        "def has_valid_genres(row):\n",
        "    genres = row['Genre'].split('|') if pd.notnull(row['Genre']) else []\n",
        "    return all(genre in valid_genres for genre in genres)\n",
        "\n",
        "df_sampled = df_sampled[df_sampled.apply(has_valid_genres, axis=1)]\n",
        "\n",
        "# Split the filtered data into 80% training and 20% validation\n",
        "train_data, val_data = train_test_split(df_sampled, test_size=0.2, random_state=42)\n",
        "\n",
        "# Check the size of each portion\n",
        "print(f\"Training data: {len(train_data)} samples\")\n",
        "print(f\"Validation data: {len(val_data)} samples\")\n"
      ]
    },
    {
      "cell_type": "code",
      "execution_count": null,
      "metadata": {
        "id": "sPyru6ipKHWu"
      },
      "outputs": [],
      "source": [
        "# Create the training data generator\n",
        "train_generator = ImageDataGeneratorWithEmotions(\n",
        "    image_folder=image_folder,  # Path to images directory\n",
        "    df_sampled=train_data,  # Training dataset\n",
        "    batch_size=32,  # Batch size\n",
        "    img_size=(224, 224),  # Image size\n",
        "    emotions=emotions,  # Emotions to predict\n",
        "    shuffle=True,  # Shuffle the training data\n",
        "    augment=True  # Enable data augmentation\n",
        ")\n",
        "\n",
        "# Create the validation data generator\n",
        "val_generator = ImageDataGeneratorWithEmotions(\n",
        "    image_folder=image_folder,  # Path to images directory\n",
        "    df_sampled=val_data,  # Validation dataset\n",
        "    batch_size=32,  # Batch size\n",
        "    img_size=(224, 224),  # Image size\n",
        "    emotions=emotions,  # Emotions to predict\n",
        "    shuffle=False,  # Do not shuffle validation data\n",
        "    augment=False  # No data augmentation for validation\n",
        ")"
      ]
    },
    {
      "cell_type": "code",
      "execution_count": null,
      "metadata": {
        "colab": {
          "base_uri": "https://localhost:8080/"
        },
        "id": "vLSPJvNbXi-o",
        "outputId": "3fca3866-3eec-42a2-8e11-be20fc5c2d23"
      },
      "outputs": [
        {
          "output_type": "stream",
          "name": "stdout",
          "text": [
            "Sample batch shape (images): (32, 224, 224, 3)\n",
            "Sample batch shape (labels): (32, 7)\n"
          ]
        }
      ],
      "source": [
        "# Test the train_generator\n",
        "sample_images, sample_labels = next(iter(train_generator))\n",
        "print(f\"Sample batch shape (images): {sample_images.shape}\")\n",
        "print(f\"Sample batch shape (labels): {sample_labels.shape}\")\n"
      ]
    },
    {
      "cell_type": "code",
      "execution_count": null,
      "metadata": {
        "id": "5Vv_RJs3hf2A"
      },
      "outputs": [],
      "source": [
        "# Input for movie posters\n",
        "poster_input = Input(shape=(224, 224, 3), name='poster_input')\n",
        "\n",
        "# Load pre-trained VGG16 model without top layers\n",
        "base_model = VGG16(weights='imagenet', include_top=False, input_tensor=poster_input)\n",
        "\n",
        "x = Flatten()(base_model.output)  # Flatten the extracted features\n",
        "x = Dense(512, activation='relu')(x)  # Dense layer for further feature processing\n",
        "x = Dropout(0.3)(x)  # Regularization\n",
        "x = Dense(256, activation='relu')(x)  # Additional dense layer for more abstraction\n",
        "x = Dropout(0.3)(x)  # Regularization\n",
        "\n",
        "# Freeze the first few layers to retain pre-trained features\n",
        "for layer in base_model.layers[:10]:  # Freeze the first 10 layers\n",
        "    layer.trainable = False\n",
        "\n",
        "# Output layer for 7 emotions (multi-label classification with sigmoid)\n",
        "output = Dense(len(emotions), activation='sigmoid', name='emotion_output')(x)\n",
        "\n",
        "# Create the model\n",
        "model = Model(inputs=poster_input, outputs=output)\n"
      ]
    },
    {
      "cell_type": "code",
      "source": [
        "import tensorflow as tf\n",
        "from tensorflow.keras.optimizers import Adam\n",
        "\n",
        "def multi_label_accuracy(y_true, y_pred):\n",
        "    # Custom metric to calculate multi-label accuracy\n",
        "    y_true = tf.cast(y_true, tf.float32)  # Cast y_true to float32\n",
        "    y_pred = tf.cast(y_pred > 0.5, tf.float32)  # Convert predictions to binary\n",
        "    return tf.reduce_mean(tf.cast(tf.equal(y_true, y_pred), tf.float32))\n",
        "\n",
        "# Define Precision and Recall objects\n",
        "precision_metric = tf.keras.metrics.Precision()\n",
        "recall_metric = tf.keras.metrics.Recall()\n",
        "\n",
        "def f1_score(y_true, y_pred):\n",
        "    # Custom metric to calculate F1 score.\n",
        "    # Reset the state of precision and recall metrics\n",
        "    precision_metric.reset_state()\n",
        "    recall_metric.reset_state()\n",
        "\n",
        "    # Update states with the true and predicted labels\n",
        "    precision_metric.update_state(y_true, y_pred)\n",
        "    recall_metric.update_state(y_true, y_pred)\n",
        "\n",
        "    # Calculate precision and recall\n",
        "    precision = precision_metric.result()  # Result is already a Tensor\n",
        "    recall = recall_metric.result()        # Result is already a Tensor\n",
        "\n",
        "    # Avoid division by zero using Keras epsilon\n",
        "    return 2 * ((precision * recall) / (precision + recall + tf.keras.backend.epsilon()))\n",
        "\n",
        "# Compile the model\n",
        "model.compile(\n",
        "    optimizer=Adam(learning_rate=0.0001),\n",
        "    loss='binary_crossentropy',\n",
        "    metrics=[multi_label_accuracy, f1_score]\n",
        ")\n"
      ],
      "metadata": {
        "id": "Q--BDdHMBZDp"
      },
      "execution_count": null,
      "outputs": []
    },
    {
      "cell_type": "code",
      "source": [
        "val_data['emotion'] = val_data['Genre'].apply(genres_to_emotions)\n",
        "print(val_data[['Genre', 'emotion']].head())  # Check a few rows\n"
      ],
      "metadata": {
        "colab": {
          "base_uri": "https://localhost:8080/"
        },
        "id": "rCS1s5E7srEb",
        "outputId": "54ea87f3-1322-4cfc-d988-014021d06c07"
      },
      "execution_count": null,
      "outputs": [
        {
          "output_type": "stream",
          "name": "stdout",
          "text": [
            "                        Genre                emotion\n",
            "52     Action|Sci-Fi|Thriller  [1, 1, 1, 0, 0, 0, 1]\n",
            "27115     Documentary|History  [0, 1, 0, 1, 0, 1, 1]\n",
            "19217                   Drama  [0, 0, 0, 0, 0, 1, 1]\n",
            "4812    Biography|Drama|Music  [0, 0, 0, 1, 1, 1, 1]\n",
            "6830              Crime|Drama  [1, 1, 0, 0, 0, 1, 1]\n"
          ]
        }
      ]
    },
    {
      "cell_type": "code",
      "source": [
        "# Check a single batch of images and labels\n",
        "train_images, train_labels = next(iter(train_generator))\n",
        "print(\"Sample Batch Labels:\", train_labels)"
      ],
      "metadata": {
        "colab": {
          "base_uri": "https://localhost:8080/"
        },
        "id": "Uj2nrtbC7jq3",
        "outputId": "02866310-c50c-4178-e613-22b622e9e913"
      },
      "execution_count": null,
      "outputs": [
        {
          "output_type": "stream",
          "name": "stdout",
          "text": [
            "Sample Batch Labels: [[1. 1. 1. 0. 0. 0. 0.]\n",
            " [1. 1. 1. 0. 1. 0. 1.]\n",
            " [1. 0. 1. 0. 0. 1. 1.]\n",
            " [1. 1. 1. 0. 0. 1. 1.]\n",
            " [0. 1. 0. 1. 0. 1. 1.]\n",
            " [1. 1. 1. 0. 0. 1. 1.]\n",
            " [1. 0. 1. 0. 0. 0. 0.]\n",
            " [1. 1. 0. 0. 0. 0. 0.]\n",
            " [1. 1. 1. 0. 1. 1. 1.]\n",
            " [1. 1. 1. 0. 1. 0. 1.]\n",
            " [0. 0. 1. 0. 1. 1. 1.]\n",
            " [0. 0. 0. 0. 0. 1. 1.]\n",
            " [0. 0. 1. 0. 1. 1. 1.]\n",
            " [0. 0. 1. 1. 1. 1. 0.]\n",
            " [0. 0. 0. 0. 0. 1. 1.]\n",
            " [0. 0. 1. 0. 1. 1. 1.]\n",
            " [0. 0. 0. 0. 1. 1. 1.]\n",
            " [1. 1. 1. 0. 1. 0. 1.]\n",
            " [0. 0. 0. 1. 0. 1. 1.]\n",
            " [0. 0. 1. 0. 1. 1. 1.]\n",
            " [0. 0. 0. 0. 1. 1. 1.]\n",
            " [0. 0. 0. 0. 0. 1. 1.]\n",
            " [1. 1. 1. 0. 0. 0. 1.]\n",
            " [0. 0. 0. 0. 0. 1. 1.]\n",
            " [1. 0. 1. 0. 1. 0. 1.]\n",
            " [1. 1. 1. 0. 1. 0. 1.]\n",
            " [1. 0. 1. 0. 0. 0. 0.]\n",
            " [1. 0. 1. 0. 0. 1. 1.]\n",
            " [0. 1. 0. 1. 0. 0. 1.]\n",
            " [1. 1. 1. 0. 0. 1. 1.]\n",
            " [0. 0. 1. 1. 1. 1. 1.]\n",
            " [1. 1. 0. 0. 0. 1. 1.]]\n"
          ]
        }
      ]
    },
    {
      "cell_type": "code",
      "execution_count": null,
      "metadata": {
        "colab": {
          "base_uri": "https://localhost:8080/"
        },
        "id": "KvYe0iC8Ka3Y",
        "outputId": "e7964105-4d27-405d-93a3-36c96bc04fa9"
      },
      "outputs": [
        {
          "output_type": "stream",
          "name": "stdout",
          "text": [
            "Steps per epoch: 157\n",
            "Validation steps: 39\n"
          ]
        }
      ],
      "source": [
        "steps_per_epoch = len(train_data) // 32\n",
        "validation_steps = len(val_data) // 32\n",
        "\n",
        "print(f\"Steps per epoch: {(steps_per_epoch)}\")\n",
        "print(f\"Validation steps: {(validation_steps)}\")"
      ]
    },
    {
      "cell_type": "code",
      "execution_count": null,
      "metadata": {
        "id": "01OSj69dRrT3"
      },
      "outputs": [],
      "source": [
        "early_stopping = EarlyStopping(monitor='val_loss', patience=5, restore_best_weights=True)\n",
        "lr_scheduler = ReduceLROnPlateau(monitor='val_loss', factor=0.5, patience=3, min_lr=0.00001)"
      ]
    },
    {
      "cell_type": "code",
      "source": [
        "class MetricsCallback(Callback):\n",
        "    def __init__(self, validation_data):\n",
        "        super().__init__()\n",
        "        self.validation_data = validation_data\n",
        "\n",
        "    def on_epoch_end(self, epoch, logs=None):\n",
        "        val_images, val_labels = next(iter(self.validation_data))\n",
        "        val_predictions = self.model.predict(val_images)\n",
        "        val_pred_labels = (val_predictions > 0.5).astype(int)\n",
        "\n",
        "        f1 = f1_score(val_labels, val_pred_labels, average='weighted')\n",
        "        precision = precision_score(val_labels, val_pred_labels, average='weighted')\n",
        "        recall = recall_score(val_labels, val_pred_labels, average='weighted')\n",
        "        auc = roc_auc_score(val_labels, val_predictions, average='weighted')\n",
        "\n",
        "        print(f'\\nEpoch {epoch + 1} - F1 Score: {f1:.4f} - Precision: {precision:.4f} - Recall: {recall:.4f} - AUC: {auc:.4f}')"
      ],
      "metadata": {
        "id": "njbjAG6ULdff"
      },
      "execution_count": null,
      "outputs": []
    },
    {
      "cell_type": "code",
      "source": [
        "val_images, val_labels = next(iter(val_generator))\n",
        "metrics_callback = MetricsCallback(validation_data=(val_images, val_labels))"
      ],
      "metadata": {
        "id": "ub2GSPZdbl21"
      },
      "execution_count": null,
      "outputs": []
    },
    {
      "cell_type": "code",
      "execution_count": null,
      "metadata": {
        "id": "i8P9Pxujhqny"
      },
      "outputs": [],
      "source": [
        "# Model Checkpoint\n",
        "checkpoint = ModelCheckpoint(\n",
        "    filepath='best_model.keras',  # File path to save the model\n",
        "    monitor='val_f1_score',  # Metric to monitor\n",
        "    mode='max',              # Save based on the highest value of the metric\n",
        "    save_best_only=True,     # Save only the best model\n",
        "    verbose=1\n",
        ")\n",
        "# Instantiate the MetricsCallback\n",
        "metrics_callback = MetricsCallback(validation_data=(val_generator))"
      ]
    },
    {
      "cell_type": "code",
      "source": [
        "# Train model\n",
        "model.fit(\n",
        "    train_generator,\n",
        "    steps_per_epoch=steps_per_epoch,\n",
        "    epochs=11,\n",
        "    validation_data=val_generator,\n",
        "    validation_steps=validation_steps,\n",
        "    callbacks=[checkpoint],\n",
        "    class_weight=class_weights_dict,\n",
        "    verbose=1\n",
        ")"
      ],
      "metadata": {
        "colab": {
          "base_uri": "https://localhost:8080/"
        },
        "id": "NKKW3DCGvj0c",
        "outputId": "1c5ede1d-a37f-48c3-ce69-f0050148190d"
      },
      "execution_count": null,
      "outputs": [
        {
          "metadata": {
            "tags": null
          },
          "name": "stdout",
          "output_type": "stream",
          "text": [
            "Epoch 1/11\n",
            "\u001b[1m157/157\u001b[0m \u001b[32m━━━━━━━━━━━━━━━━━━━━\u001b[0m\u001b[37m\u001b[0m \u001b[1m0s\u001b[0m 35s/step - f1_score: 0.6311 - loss: 0.9771 - multi_label_accuracy: 0.6133 \n",
            "Epoch 1: val_f1_score improved from -inf to 0.69159, saving model to best_model.keras\n",
            "\u001b[1m157/157\u001b[0m \u001b[32m━━━━━━━━━━━━━━━━━━━━\u001b[0m\u001b[37m\u001b[0m \u001b[1m6672s\u001b[0m 41s/step - f1_score: 0.6313 - loss: 0.9754 - multi_label_accuracy: 0.6134 - val_f1_score: 0.6916 - val_loss: 0.6243 - val_multi_label_accuracy: 0.6593\n",
            "Epoch 2/11\n",
            "\u001b[1m  1/157\u001b[0m \u001b[37m━━━━━━━━━━━━━━━━━━━━\u001b[0m \u001b[1m1:52:29\u001b[0m 43s/step - f1_score: 0.6840 - loss: 0.6122 - multi_label_accuracy: 0.6741"
          ]
        },
        {
          "metadata": {
            "tags": null
          },
          "name": "stderr",
          "output_type": "stream",
          "text": [
            "/usr/lib/python3.11/contextlib.py:158: UserWarning: Your input ran out of data; interrupting training. Make sure that your dataset or generator can generate at least `steps_per_epoch * epochs` batches. You may need to use the `.repeat()` function when building your dataset.\n",
            "  self.gen.throw(typ, value, traceback)\n"
          ]
        },
        {
          "output_type": "stream",
          "name": "stdout",
          "text": [
            "\n",
            "Epoch 2: val_f1_score did not improve from 0.69159\n",
            "\u001b[1m157/157\u001b[0m \u001b[32m━━━━━━━━━━━━━━━━━━━━\u001b[0m\u001b[37m\u001b[0m \u001b[1m51s\u001b[0m 48ms/step - f1_score: 0.3442 - loss: 0.6122 - multi_label_accuracy: 0.3392 - val_f1_score: 0.3217 - val_loss: 0.6459 - val_multi_label_accuracy: 0.3048\n",
            "Epoch 3/11\n",
            "\u001b[1m157/157\u001b[0m \u001b[32m━━━━━━━━━━━━━━━━━━━━\u001b[0m\u001b[37m\u001b[0m \u001b[1m0s\u001b[0m 35s/step - f1_score: 0.6792 - loss: 0.6332 - multi_label_accuracy: 0.6585 \n",
            "Epoch 3: val_f1_score improved from 0.69159 to 0.70312, saving model to best_model.keras\n",
            "\u001b[1m157/157\u001b[0m \u001b[32m━━━━━━━━━━━━━━━━━━━━\u001b[0m\u001b[37m\u001b[0m \u001b[1m6170s\u001b[0m 39s/step - f1_score: 0.6793 - loss: 0.6332 - multi_label_accuracy: 0.6585 - val_f1_score: 0.7031 - val_loss: 0.6123 - val_multi_label_accuracy: 0.6755\n",
            "Epoch 4/11\n",
            "\u001b[1m  1/157\u001b[0m \u001b[37m━━━━━━━━━━━━━━━━━━━━\u001b[0m \u001b[1m1:45:00\u001b[0m 40s/step - f1_score: 0.7347 - loss: 0.6205 - multi_label_accuracy: 0.7098\n",
            "Epoch 4: val_f1_score did not improve from 0.70312\n",
            "\u001b[1m157/157\u001b[0m \u001b[32m━━━━━━━━━━━━━━━━━━━━\u001b[0m\u001b[37m\u001b[0m \u001b[1m50s\u001b[0m 60ms/step - f1_score: 0.3697 - loss: 0.6205 - multi_label_accuracy: 0.3572 - val_f1_score: 0.3304 - val_loss: 0.6385 - val_multi_label_accuracy: 0.3143\n",
            "Epoch 5/11\n",
            "\u001b[1m157/157\u001b[0m \u001b[32m━━━━━━━━━━━━━━━━━━━━\u001b[0m\u001b[37m\u001b[0m \u001b[1m0s\u001b[0m 34s/step - f1_score: 0.6915 - loss: 0.6288 - multi_label_accuracy: 0.6661 \n",
            "Epoch 5: val_f1_score improved from 0.70312 to 0.70619, saving model to best_model.keras\n",
            "\u001b[1m157/157\u001b[0m \u001b[32m━━━━━━━━━━━━━━━━━━━━\u001b[0m\u001b[37m\u001b[0m \u001b[1m6127s\u001b[0m 39s/step - f1_score: 0.6916 - loss: 0.6287 - multi_label_accuracy: 0.6661 - val_f1_score: 0.7062 - val_loss: 0.6099 - val_multi_label_accuracy: 0.6724\n",
            "Epoch 6/11\n",
            "\u001b[1m  1/157\u001b[0m \u001b[37m━━━━━━━━━━━━━━━━━━━━\u001b[0m \u001b[1m1:45:04\u001b[0m 40s/step - f1_score: 0.7040 - loss: 0.6265 - multi_label_accuracy: 0.6696\n",
            "Epoch 6: val_f1_score did not improve from 0.70619\n",
            "\u001b[1m157/157\u001b[0m \u001b[32m━━━━━━━━━━━━━━━━━━━━\u001b[0m\u001b[37m\u001b[0m \u001b[1m48s\u001b[0m 52ms/step - f1_score: 0.3542 - loss: 0.6265 - multi_label_accuracy: 0.3370 - val_f1_score: 0.3534 - val_loss: 0.6297 - val_multi_label_accuracy: 0.3381\n",
            "Epoch 7/11\n",
            "\u001b[1m157/157\u001b[0m \u001b[32m━━━━━━━━━━━━━━━━━━━━\u001b[0m\u001b[37m\u001b[0m \u001b[1m0s\u001b[0m 35s/step - f1_score: 0.7022 - loss: 0.6171 - multi_label_accuracy: 0.6795 \n",
            "Epoch 7: val_f1_score improved from 0.70619 to 0.70933, saving model to best_model.keras\n",
            "\u001b[1m157/157\u001b[0m \u001b[32m━━━━━━━━━━━━━━━━━━━━\u001b[0m\u001b[37m\u001b[0m \u001b[1m6172s\u001b[0m 39s/step - f1_score: 0.7022 - loss: 0.6171 - multi_label_accuracy: 0.6795 - val_f1_score: 0.7093 - val_loss: 0.6001 - val_multi_label_accuracy: 0.6850\n",
            "Epoch 8/11\n",
            "\u001b[1m  1/157\u001b[0m \u001b[37m━━━━━━━━━━━━━━━━━━━━\u001b[0m \u001b[1m1:27:14\u001b[0m 34s/step - f1_score: 0.6606 - loss: 0.6408 - multi_label_accuracy: 0.6652\n",
            "Epoch 8: val_f1_score did not improve from 0.70933\n",
            "\u001b[1m157/157\u001b[0m \u001b[32m━━━━━━━━━━━━━━━━━━━━\u001b[0m\u001b[37m\u001b[0m \u001b[1m43s\u001b[0m 58ms/step - f1_score: 0.3324 - loss: 0.6408 - multi_label_accuracy: 0.3347 - val_f1_score: 0.3421 - val_loss: 0.6345 - val_multi_label_accuracy: 0.3286\n",
            "Epoch 9/11\n",
            "\u001b[1m157/157\u001b[0m \u001b[32m━━━━━━━━━━━━━━━━━━━━\u001b[0m\u001b[37m\u001b[0m \u001b[1m0s\u001b[0m 35s/step - f1_score: 0.7012 - loss: 0.6070 - multi_label_accuracy: 0.6843 \n",
            "Epoch 9: val_f1_score did not improve from 0.70933\n",
            "\u001b[1m157/157\u001b[0m \u001b[32m━━━━━━━━━━━━━━━━━━━━\u001b[0m\u001b[37m\u001b[0m \u001b[1m6165s\u001b[0m 39s/step - f1_score: 0.7012 - loss: 0.6070 - multi_label_accuracy: 0.6842 - val_f1_score: 0.7054 - val_loss: 0.6018 - val_multi_label_accuracy: 0.6819\n",
            "Epoch 10/11\n",
            "\u001b[1m  1/157\u001b[0m \u001b[37m━━━━━━━━━━━━━━━━━━━━\u001b[0m \u001b[1m1:27:22\u001b[0m 34s/step - f1_score: 0.7124 - loss: 0.5552 - multi_label_accuracy: 0.7009\n",
            "Epoch 10: val_f1_score did not improve from 0.70933\n",
            "\u001b[1m157/157\u001b[0m \u001b[32m━━━━━━━━━━━━━━━━━━━━\u001b[0m\u001b[37m\u001b[0m \u001b[1m89s\u001b[0m 357ms/step - f1_score: 0.3585 - loss: 0.5552 - multi_label_accuracy: 0.3527 - val_f1_score: 0.3364 - val_loss: 0.6312 - val_multi_label_accuracy: 0.3286\n",
            "Epoch 11/11\n",
            "\u001b[1m157/157\u001b[0m \u001b[32m━━━━━━━━━━━━━━━━━━━━\u001b[0m\u001b[37m\u001b[0m \u001b[1m0s\u001b[0m 34s/step - f1_score: 0.7014 - loss: 0.6042 - multi_label_accuracy: 0.6867 \n",
            "Epoch 11: val_f1_score did not improve from 0.70933\n",
            "\u001b[1m157/157\u001b[0m \u001b[32m━━━━━━━━━━━━━━━━━━━━\u001b[0m\u001b[37m\u001b[0m \u001b[1m6124s\u001b[0m 39s/step - f1_score: 0.7015 - loss: 0.6042 - multi_label_accuracy: 0.6867 - val_f1_score: 0.6987 - val_loss: 0.6073 - val_multi_label_accuracy: 0.6837\n"
          ]
        },
        {
          "output_type": "execute_result",
          "data": {
            "text/plain": [
              "<keras.src.callbacks.history.History at 0x7954f8d66c10>"
            ]
          },
          "metadata": {},
          "execution_count": 80
        }
      ]
    },
    {
      "cell_type": "code",
      "execution_count": null,
      "metadata": {
        "id": "I8gAUs3c_vkB"
      },
      "outputs": [],
      "source": [
        "model.save('/content/drive/MyDrive/movie_emotion_model_fin.keras')  # Save to Drive"
      ]
    }
  ],
  "metadata": {
    "colab": {
      "provenance": [],
      "authorship_tag": "ABX9TyPBkcwVNPg+ediLt4sL6lkE",
      "include_colab_link": true
    },
    "kernelspec": {
      "display_name": "Python 3",
      "name": "python3"
    },
    "language_info": {
      "name": "python"
    }
  },
  "nbformat": 4,
  "nbformat_minor": 0
}